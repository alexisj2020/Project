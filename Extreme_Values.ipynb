{
 "cells": [
  {
   "cell_type": "code",
   "execution_count": 1,
   "id": "c16bf9d1-cac8-4d06-85e4-0dda05059368",
   "metadata": {},
   "outputs": [],
   "source": [
    "import matplotlib.pyplot as plt\n",
    "import pandas as pd\n",
    "import numpy as np"
   ]
  },
  {
   "cell_type": "code",
   "execution_count": 53,
   "id": "9d8dbb29-878e-4650-b262-ec8a3bc19bab",
   "metadata": {},
   "outputs": [],
   "source": [
    "#Load in monthly data\n",
    "#then convert columns to lists to have a list of each type of data\n",
    "with open ('org_data/ClimateData.txt', 'r') as file1:\n",
    "    lines=file1.readlines()\n",
    "    time=[]\n",
    "    temp=[]\n",
    "    co2=[]\n",
    "    sea_ice_ext=[]\n",
    "    pH=[]\n",
    "    for i in lines:\n",
    "        fulllines=i.split('\\t')\n",
    "        time.append(fulllines[0])\n",
    "        temp.append(fulllines[2])\n",
    "        co2.append(fulllines[1])\n",
    "        sea_ice_ext.append(fulllines[4])\n",
    "        pH.append(fulllines[5].replace(\"\\n\", \"\"))\n",
    "\n",
    "#replace empty values in pH data with NaN (because pH data is missing values)\n",
    "pH_n=[]\n",
    "for string in (pH):\n",
    "    if string == '':\n",
    "        string = np.nan\n",
    "    pH_n.append(string)\n",
    "\n",
    "\n",
    "#convert data entries from strings to floats\n",
    "times = [float(string) for string in time]\n",
    "co2s=[float(string) for string in co2]\n",
    "temps = [float(string) for string in temp]\n",
    "phs = [float(string) for string in pH_n]\n",
    "sea_ice_exts = [float(string) for string in sea_ice_ext]"
   ]
  },
  {
   "cell_type": "code",
   "execution_count": 20,
   "id": "bd8054a2-940b-45e4-87de-0d926174ae83",
   "metadata": {},
   "outputs": [],
   "source": [
    "#Load in annual data\n",
    "#then convert columns to lists to have a list of each type of data\n",
    "with open ('org_data/ClimateDataAnnual.txt', 'r') as file2:\n",
    "    lines2=file2.readlines()\n",
    "    time_y=[]\n",
    "    temp_y=[]\n",
    "    co2_y=[]\n",
    "    sea_ice_ext_y=[]\n",
    "    for i in lines2:\n",
    "        fulllines=i.split('\\t')\n",
    "        time_y.append(fulllines[0])\n",
    "        temp_y.append(fulllines[2])\n",
    "        co2_y.append(fulllines[1])\n",
    "        sea_ice_ext_y.append(fulllines[4])\n",
    "\n",
    "\n",
    "#convert data entries from strings to floats\n",
    "times_y = [float(string) for string in time_y]\n",
    "co2s_y=[float(string) for string in co2_y]\n",
    "temps_y = [float(string) for string in temp_y]\n",
    "sea_ice_exts_y = [float(string) for string in sea_ice_ext_y]"
   ]
  },
  {
   "cell_type": "code",
   "execution_count": 54,
   "id": "36450d75-3083-4edd-a4f8-ee1fe52b05a8",
   "metadata": {},
   "outputs": [],
   "source": [
    "#make new list of pH data without the NaN values\n",
    "dict={'Time': times, 'ph': phs} #make dictionary of time and ph\n",
    "df = pd.DataFrame(dict) #make dataframe\n",
    "df.dropna(inplace=True) #remove rows with NaN values\n",
    "#write the ph and times to lists with no NaN values\n",
    "phs_2 = df['ph'].tolist() \n",
    "timeph = df['Time'].tolist()"
   ]
  },
  {
   "cell_type": "code",
   "execution_count": 61,
   "id": "98acd260-3c51-466b-ae34-d4c3e8f1fb81",
   "metadata": {},
   "outputs": [
    {
     "data": {
      "text/plain": [
       "1994.042"
      ]
     },
     "execution_count": 61,
     "metadata": {},
     "output_type": "execute_result"
    }
   ],
   "source": [
    "#Can find the minimum and maximum values using min and max functions\n",
    "#Can determine index of these values using the index function\n",
    "vals=[]\n",
    "dates=[]\n",
    "vals.append(min(temps))\n",
    "vals.append(min(co2s))\n",
    "vals.append(min(sea_ice_exts))\n",
    "vals.append(min(phs_2))\n",
    "vals.append(max(temps))\n",
    "vals.append(max(co2s))\n",
    "vals.append(max(sea_ice_exts))\n",
    "vals.append(max(phs_2))\n",
    "\n",
    "temp_min = temps.index(min(temps))\n",
    "co2_min = co2s.index(min(co2s))\n",
    "ext_min = sea_ice_exts.index(min(sea_ice_exts))\n",
    "pH_min = phs.index(min(phs_2))\n",
    "temp_max = temps.index(max(temps))\n",
    "co2_max = co2s.index(max(co2s))\n",
    "ext_max = sea_ice_exts.index(max(sea_ice_exts))\n",
    "pH_max = phs.index(max(phs_2))\n",
    "\n",
    "dates.append(times[temp_min])\n",
    "dates.append(times[co2_min])\n",
    "dates.append(times[ext_min])\n",
    "dates.append(times[pH_min])\n",
    "dates.append(times[temp_max])\n",
    "dates.append(times[co2_max])\n",
    "dates.append(times[ext_max])\n",
    "dates.append(times[pH_max])\n",
    "\n",
    "dates[7]"
   ]
  },
  {
   "cell_type": "code",
   "execution_count": 63,
   "id": "5e674ad4-cc9d-436a-a32c-d6c04b4c7c43",
   "metadata": {},
   "outputs": [
    {
     "data": {
      "text/plain": [
       "<matplotlib.legend.Legend at 0x7f41cdd00e80>"
      ]
     },
     "execution_count": 63,
     "metadata": {},
     "output_type": "execute_result"
    },
    {
     "data": {
      "image/png": "[encoded data removed]",
      "text/plain": [
       "<Figure size 640x480 with 1 Axes>"
      ]
     },
     "metadata": {},
     "output_type": "display_data"
    }
   ],
   "source": [
    "x=[1,2,3]\n",
    "y=[3,4,5]\n",
    "\n",
    "plt.plot(dates[0],vals[0],'x',color='r',label='Temp min')\n",
    "plt.plot(dates[1],vals[1],'x',color='b',label='CO2 min')\n",
    "plt.plot(dates[2],vals[2],'x',color='g',label='Sea ice extent min')\n",
    "plt.plot(dates[3],vals[3],'x',color='k',label='pH min')\n",
    "plt.plot(dates[4],vals[4],'o',color='r',label='Temp max')\n",
    "plt.plot(dates[5],vals[5],'o',color='b',label='CO2 max')\n",
    "plt.plot(dates[6],vals[6],'o',color='g',label='Sea ice extent max')\n",
    "plt.plot(dates[7],vals[7],'o',color='k',label='pH max')\n",
    "plt.legend()"
   ]
  },
  {
   "cell_type": "code",
   "execution_count": null,
   "id": "5776f9e1-3ac2-40ce-a525-7f1e108330b5",
   "metadata": {},
   "outputs": [],
   "source": []
  }
 ],
 "metadata": {
  "kernelspec": {
   "display_name": "Python 3 (ipykernel)",
   "language": "python",
   "name": "python3"
  },
  "language_info": {
   "codemirror_mode": {
    "name": "ipython",
    "version": 3
   },
   "file_extension": ".py",
   "mimetype": "text/x-python",
   "name": "python",
   "nbconvert_exporter": "python",
   "pygments_lexer": "ipython3",
   "version": "3.10.12"
  }
 },
 "nbformat": 4,
 "nbformat_minor": 5
}
