{
 "cells": [
  {
   "cell_type": "code",
   "execution_count": 1,
   "id": "c16bf9d1-cac8-4d06-85e4-0dda05059368",
   "metadata": {},
   "outputs": [],
   "source": [
    "import matplotlib.pyplot as plt\n",
    "import pandas as pd\n",
    "import numpy as np\n",
    "import pandas as pd"
   ]
  },
  {
   "cell_type": "code",
   "execution_count": 2,
   "id": "9d8dbb29-878e-4650-b262-ec8a3bc19bab",
   "metadata": {},
   "outputs": [],
   "source": [
    "#Load in monthly data\n",
    "#then convert columns to lists to have a list of each type of data\n",
    "with open ('org_data/ClimateData.txt', 'r') as file1:\n",
    "    lines=file1.readlines()\n",
    "    time=[]\n",
    "    temp=[]\n",
    "    co2=[]\n",
    "    sea_ice_ext=[]\n",
    "    pH=[]\n",
    "    for i in lines:\n",
    "        fulllines=i.split('\\t')\n",
    "        time.append(fulllines[0].replace(\"\\n\", \"\"))\n",
    "        temp.append(fulllines[2].replace(\"\\n\", \"\"))\n",
    "        co2.append(fulllines[1].replace(\"\\n\", \"\"))\n",
    "        sea_ice_ext.append(fulllines[4].replace(\"\\n\", \"\"))\n",
    "        pH.append(fulllines[5].replace(\"\\n\", \"\"))\n",
    "\n",
    "#replace empty values in pH data with NaN (because pH data is missing values)\n",
    "pH_n=[]\n",
    "for string in (pH):\n",
    "    if string == '':\n",
    "        string = np.nan\n",
    "    pH_n.append(string)\n",
    "\n",
    "\n",
    "#convert data entries from strings to floats\n",
    "times = [float(string) for string in time]\n",
    "co2s=[float(string) for string in co2]\n",
    "temps = [float(string) for string in temp]\n",
    "phs = [float(string) for string in pH_n]\n",
    "sea_ice_exts = [float(string) for string in sea_ice_ext]"
   ]
  },
  {
   "cell_type": "code",
   "execution_count": 3,
   "id": "bd8054a2-940b-45e4-87de-0d926174ae83",
   "metadata": {},
   "outputs": [],
   "source": [
    "#Load in annual data\n",
    "#then convert columns to lists to have a list of each type of data\n",
    "with open ('org_data/ClimateDataAnnual.txt', 'r') as file2:\n",
    "    lines2=file2.readlines()\n",
    "    time_y=[]\n",
    "    temp_y=[]\n",
    "    co2_y=[]\n",
    "    sea_ice_ext_y=[]\n",
    "    for i in lines2:\n",
    "        fulllines=i.split('\\t')\n",
    "        time_y.append(fulllines[0])\n",
    "        temp_y.append(fulllines[2])\n",
    "        co2_y.append(fulllines[1])\n",
    "        sea_ice_ext_y.append(fulllines[4])\n",
    "\n",
    "\n",
    "#convert data entries from strings to floats\n",
    "times_y = [float(string) for string in time_y]\n",
    "co2s_y=[float(string) for string in co2_y]\n",
    "temps_y = [float(string) for string in temp_y]\n",
    "sea_ice_exts_y = [float(string) for string in sea_ice_ext_y]"
   ]
  },
  {
   "cell_type": "code",
   "execution_count": 4,
   "id": "49b1a695-644e-4159-8a7a-586d18188d42",
   "metadata": {},
   "outputs": [],
   "source": [
    "# load in interpolated pH data\n",
    "with open ('org_data/pHData.txt', 'r') as file3:\n",
    "    lines3 = file3.readlines()\n",
    "    time_int = []\n",
    "    ph_int = []\n",
    "    for i in lines3:\n",
    "        fulllines=i.split('\\t')\n",
    "        time_int.append(fulllines[0])\n",
    "        ph_int.append(fulllines[1])\n",
    "\n",
    "\n",
    "time_int = [float(string) for string in time_int]\n",
    "ph_int = [float(string) for string in ph_int]\n",
    "\n",
    "# load in interpolated yearly pH data\n",
    "with open ('org_data/pHDataAnnual.txt', 'r') as file4:\n",
    "    lines4 = file4.readlines()\n",
    "    time_y_int = []\n",
    "    ph_y_int = []\n",
    "    for i in lines4:\n",
    "        fulllines=i.split('\\t')\n",
    "        time_y_int.append(fulllines[0])\n",
    "        ph_y_int.append(fulllines[1])\n",
    "\n",
    "\n",
    "times_y_int = [float(string) for string in time_y_int]\n",
    "phs_y_int = [float(string) for string in ph_y_int]\n"
   ]
  },
  {
   "cell_type": "code",
   "execution_count": 5,
   "id": "98acd260-3c51-466b-ae34-d4c3e8f1fb81",
   "metadata": {},
   "outputs": [],
   "source": [
    "#Can find the minimum and maximum values using min and max functions\n",
    "#Can determine index of these values using the index function\n",
    "vals=[]\n",
    "dates=[]\n",
    "vals.append(min(temps))\n",
    "vals.append(min(co2s))\n",
    "vals.append(min(sea_ice_exts))\n",
    "vals.append(min(ph_int))\n",
    "vals.append(max(temps))\n",
    "vals.append(max(co2s))\n",
    "vals.append(max(sea_ice_exts))\n",
    "vals.append(max(ph_int))\n",
    "\n",
    "temp_min = temps.index(min(temps))\n",
    "co2_min = co2s.index(min(co2s))\n",
    "ext_min = sea_ice_exts.index(min(sea_ice_exts))\n",
    "pH_min = phs.index(min(ph_int))\n",
    "temp_max = temps.index(max(temps))\n",
    "co2_max = co2s.index(max(co2s))\n",
    "ext_max = sea_ice_exts.index(max(sea_ice_exts))\n",
    "pH_max = phs.index(max(ph_int))\n",
    "\n",
    "dates.append(times[temp_min])\n",
    "dates.append(times[co2_min])\n",
    "dates.append(times[ext_min])\n",
    "dates.append(times[pH_min])\n",
    "dates.append(times[temp_max])\n",
    "dates.append(times[co2_max])\n",
    "dates.append(times[ext_max])\n",
    "dates.append(times[pH_max])\n"
   ]
  },
  {
   "cell_type": "code",
   "execution_count": 6,
   "id": "5776f9e1-3ac2-40ce-a525-7f1e108330b5",
   "metadata": {},
   "outputs": [],
   "source": [
    "# load the data as a pandas dataframe to calculate quantiles\n",
    "dict = {'Time': times_y, 'CO2': co2s_y, 'Temp': temps_y, 'IceExt': sea_ice_exts_y}\n",
    "df = pd.DataFrame(dict)\n",
    "df2=df.set_index('Time')\n",
    "\n",
    "#dict_m = {'Time': times, 'CO2': co2s, 'Temp': temps, 'IceExt': sea_ice_exts, 'pH': phs}\n",
    "#dfm = pd.DataFrame(dict_m)\n",
    "#dfm2=dfm.set_index('Time')\n",
    "\n",
    "dict_ph = {'Time': times_y_int, 'pH': phs_y_int}\n",
    "dfph = pd.DataFrame(dict_ph)\n",
    "dfph2 = dfph.set_index('Time')"
   ]
  },
  {
   "cell_type": "code",
   "execution_count": 7,
   "id": "0cdef387-4832-4290-802c-7d62aabb3067",
   "metadata": {},
   "outputs": [],
   "source": [
    "dat10 = df2.quantile(.10)\n",
    "dat90 = df2.quantile(.90)\n",
    "\n",
    "datph10 = dfph2.quantile(.10)\n",
    "datph90 = dfph2.quantile(.90)"
   ]
  },
  {
   "cell_type": "code",
   "execution_count": 8,
   "id": "2176f0ad-4e7a-4ba2-997e-c03f03ef2cc7",
   "metadata": {},
   "outputs": [],
   "source": [
    "l_dat = df2 < dat10\n",
    "h_dat = df2 > dat90\n",
    "\n",
    "l_dat_ph = dfph2 < datph10\n",
    "h_dat_ph = dfph2 > datph90"
   ]
  },
  {
   "cell_type": "code",
   "execution_count": 9,
   "id": "77b16e64-2c95-4ebd-90cb-d57521888298",
   "metadata": {},
   "outputs": [],
   "source": [
    "l_dat_t=l_dat.sum(axis=1)\n",
    "l_dat_t_5=l_dat_t.groupby(l_dat_t.index // 5).sum()\n",
    "\n",
    "h_dat_t=h_dat.sum(axis=1)\n",
    "h_dat_t_5=h_dat_t.groupby(h_dat_t.index // 5).sum()\n",
    "\n",
    "times_y_5=['1979-1984','1984-1989','1989-1994','1994-1999','19992004','2004-2009','2009-2014','2014-2019','2019-2024','2024']"
   ]
  },
  {
   "cell_type": "code",
   "execution_count": 10,
   "id": "fc354875-5ba1-41a9-930a-dff1948fc501",
   "metadata": {},
   "outputs": [
    {
     "data": {
      "image/png": "[encoded data removed]",
      "text/plain": [
       "<Figure size 640x480 with 1 Axes>"
      ]
     },
     "metadata": {},
     "output_type": "display_data"
    }
   ],
   "source": [
    "plt.bar(times_y,2*h_dat['CO2'],color='deepskyblue',label='CO2 highest values')\n",
    "plt.bar(times_y,2*l_dat['CO2'],color='lightblue',label='CO2 lowest values')\n",
    "plt.bar(times_y,1.66*h_dat['Temp'],color='tomato',label=' temp highest values')\n",
    "plt.bar(times_y,1.66*l_dat['Temp'],color='lightsalmon',label='temp lowest values')\n",
    "plt.bar(times_y,1.33*h_dat['IceExt'],color='springgreen',label='ice extent highest values')\n",
    "plt.bar(times_y,1.33*l_dat['IceExt'],color='palegreen',label='ice extent lowest values')\n",
    "plt.bar(times_y_int,h_dat_ph['pH'],color='magenta',label='ph highest values')\n",
    "plt.bar(times_y_int,l_dat_ph['pH'],color='thistle',label='ph lowest values')\n",
    "\n",
    "ax = plt.gca()\n",
    "#hide x-axis\n",
    "ax.get_yaxis().set_visible(False)\n",
    "plt.xlabel('Year')\n",
    "plt.title(\"10th and 90th Percentiles of Data\")\n",
    "plt.legend(loc='center left', bbox_to_anchor=(1, 0.5))\n",
    "plt.savefig('images/quantiles.pdf', dpi=300, bbox_inches='tight')"
   ]
  },
  {
   "cell_type": "code",
   "execution_count": null,
   "id": "a06e7b8c-90b9-4a16-8268-d5d12aeb5838",
   "metadata": {},
   "outputs": [],
   "source": []
  }
 ],
 "metadata": {
  "kernelspec": {
   "display_name": "Python 3 (ipykernel)",
   "language": "python",
   "name": "python3"
  },
  "language_info": {
   "codemirror_mode": {
    "name": "ipython",
    "version": 3
   },
   "file_extension": ".py",
   "mimetype": "text/x-python",
   "name": "python",
   "nbconvert_exporter": "python",
   "pygments_lexer": "ipython3",
   "version": "3.10.12"
  }
 },
 "nbformat": 4,
 "nbformat_minor": 5
}
