{
 "cells": [
  {
   "cell_type": "markdown",
   "id": "7c0cf9b1-1867-48d1-975e-d65e1ff69a39",
   "metadata": {},
   "source": [
    "# Step 1: Combine datasets into one final dataset"
   ]
  },
  {
   "cell_type": "code",
   "execution_count": 3,
   "id": "1cbe2262-bf82-404a-8f12-537df2856b29",
   "metadata": {},
   "outputs": [],
   "source": [
    "import matplotlib.pyplot as plt\n",
    "import pandas as pd\n",
    "import numpy as np"
   ]
  },
  {
   "cell_type": "code",
   "execution_count": 4,
   "id": "568f4b08-93ad-46c4-b53c-e695cd39613a",
   "metadata": {},
   "outputs": [],
   "source": [
    "#import time series and co2 data\n",
    "with open (\"data/co2_mm_gl_space.txt\") as file1:\n",
    "    time=[]\n",
    "    co2=[]\n",
    "    for line in file1:\n",
    "        #y=line[0:4]\n",
    "        #m=line[8:10]\n",
    "        #ym=m+'/'+y\n",
    "        time.append(line[13:22])\n",
    "        #time.append(ym)\n",
    "        avg=line[25:32]\n",
    "        co2.append(avg)\n",
    "        timeco2=[time,co2]\n",
    "            \n",
    "            "
   ]
  },
  {
   "cell_type": "code",
   "execution_count": 5,
   "id": "f66883bc-fd0c-4250-95dd-ad66e1f0971f",
   "metadata": {},
   "outputs": [],
   "source": [
    "#import temperature data\n",
    "with open (\"data/Temperature.txt\") as file2:\n",
    "    temp=[]\n",
    "    for i, line in enumerate(file2):\n",
    "        if i>=347:\n",
    "            temp.append(line[12:21])\n",
    "        if i>=891:\n",
    "            break"
   ]
  },
  {
   "cell_type": "code",
   "execution_count": 6,
   "id": "d3e81966-4cd8-42a1-90f1-d9852a293e14",
   "metadata": {},
   "outputs": [],
   "source": [
    "#import sea ice area data\n",
    "with open (\"data/sea_extent.txt\") as file3:\n",
    "    ice=[]\n",
    "    for i, line in enumerate(file3):\n",
    "        if i>=2:\n",
    "            ice.append(line[9:-1])\n",
    "        if i>=546:\n",
    "            break"
   ]
  },
  {
   "cell_type": "code",
   "execution_count": 7,
   "id": "2239100b-43d4-480b-96e4-ad8102985c6d",
   "metadata": {},
   "outputs": [],
   "source": [
    "#import sea ice extent data\n",
    "with open (\"data/sea_ice_extent.txt\") as file5:\n",
    "    ice_ex=[]\n",
    "    for i, line in enumerate(file5):\n",
    "            ice_ex.append(line[:6])"
   ]
  },
  {
   "cell_type": "code",
   "execution_count": 8,
   "id": "ccfa737c-558a-4e11-a634-9d63cd977a1d",
   "metadata": {},
   "outputs": [],
   "source": [
    "#import ocean ph data\n",
    "with open (\"data/phdata.txt\") as file4:\n",
    "    ph=[]\n",
    "    timeph=[]\n",
    "    for i, line in enumerate(file4):\n",
    "        ph.append(line[:6])"
   ]
  },
  {
   "cell_type": "code",
   "execution_count": 9,
   "id": "dc394f62-dec1-4261-aba4-eb1b2ce8f95b",
   "metadata": {},
   "outputs": [],
   "source": [
    "#remove empty entries in ph data\n",
    "for i in range(len(ph)):\n",
    "    if ph[i] == 'NaN\\t19':\n",
    "       ph[i] = ''\n",
    "    if ph[i] == 'NaN\\t20':\n",
    "       ph[i] = ''\n",
    "\n",
    "ph1=[]\n",
    "#replace empty entries with np.nan\n",
    "for string in (ph):\n",
    "    if string == '':\n",
    "        string = np.nan\n",
    "    ph1.append(string)"
   ]
  },
  {
   "cell_type": "code",
   "execution_count": 10,
   "id": "4db7b350-fded-49ba-8b6e-cc6d5a0606b6",
   "metadata": {},
   "outputs": [
    {
     "data": {
      "text/plain": [
       "'decim'"
      ]
     },
     "execution_count": 10,
     "metadata": {},
     "output_type": "execute_result"
    }
   ],
   "source": [
    "#remove spaces in entries from co2 and time series\n",
    "co2 = [x.strip(' ') for x in co2]\n",
    "times=[]\n",
    "for i in time:\n",
    "    j = i.replace(' ','')\n",
    "    times.append(j)\n",
    "\n",
    "#remove empty characters from elements in ice_exs list\n",
    "ice_exs=[]\n",
    "for i in ice_ex:\n",
    "    j = i.replace('\\t','')\n",
    "    ice_exs.append(j)\n",
    "\n",
    "#remove header row\n",
    "co2.pop(0)\n",
    "times.pop(0)"
   ]
  },
  {
   "cell_type": "code",
   "execution_count": 11,
   "id": "13d4289b-5dc3-4f5b-948c-9bec9c5d8c73",
   "metadata": {},
   "outputs": [],
   "source": [
    "#replace strings with floats in each list\n",
    "times2 = [float(string) for string in times]\n",
    "co2_2=[float(string) for string in co2]\n",
    "temp_2 = [float(string) for string in temp]\n",
    "ice_2 = [float(string) for string in ice]\n",
    "ph_2 = [float(string) for string in ph1]\n",
    "ice_exs_2 = [float(string) for string in ice_exs]"
   ]
  },
  {
   "cell_type": "code",
   "execution_count": 12,
   "id": "d2527895-02d1-43b1-a9c8-3e828ffb2022",
   "metadata": {},
   "outputs": [],
   "source": [
    "#get annual average of each dataset\n",
    "n = 12.0\n",
    "year=times2[::12]\n",
    "tempyear = [sum(temp_2[i:i+12])/n for i in range(0,len(temp_2),12)]\n",
    "co2year = [sum(co2_2[i:i+12])/n for i in range(0,len(co2_2),12)]\n",
    "iceyear = [sum(ice_2[i:i+12])/n for i in range(0,len(ice_2),12)]\n",
    "iceexyear = [sum(ice_exs_2[i:i+12])/n for i in range(0,len(ice_exs_2),12)]\n",
    "\n",
    "#get annual lists\n",
    "#remove the last element because 2024 isn't finished yet so data is incomplete\n",
    "year = year[:-1]\n",
    "tempyear = tempyear[:-1]\n",
    "co2year = co2year[:-1]\n",
    "iceyear = iceyear[:-1]\n",
    "iceexyear = iceexyear[:-1]\n",
    "#sum(temp_2[:12])/12"
   ]
  },
  {
   "cell_type": "code",
   "execution_count": 13,
   "id": "c91d4ca7-6558-4571-b0e3-47109ae14395",
   "metadata": {},
   "outputs": [],
   "source": [
    "#monthly dataset\n",
    "dict = {'Time': times2, 'CO2': co2_2, 'Temp': temp_2, 'IceArea': ice_2, 'IceExtent': ice_exs_2, 'pH': ph_2}\n",
    "\n",
    "df = pd.DataFrame(dict)\n",
    "df.to_csv('org_data' + '/' + 'ClimateData.txt', sep='\\t',index=False,header=False)"
   ]
  },
  {
   "cell_type": "code",
   "execution_count": 14,
   "id": "bf83890a-59e4-49a4-ab48-b73f25a86670",
   "metadata": {},
   "outputs": [],
   "source": [
    "# yearly dataset\n",
    "dict = {'Year': year, 'CO2': co2year, 'Temp': tempyear, 'IceArea': iceyear, 'IceExtent': iceexyear}\n",
    "\n",
    "df2 = pd.DataFrame(dict)\n",
    "df2.to_csv('org_data' + '/' + 'ClimateDataAnnual.txt', sep='\\t',index=False,header=False)"
   ]
  },
  {
   "cell_type": "code",
   "execution_count": 16,
   "id": "9d4311f0-24a8-4d74-9eb2-6ef5d2dac431",
   "metadata": {},
   "outputs": [],
   "source": [
    "# make new interpolated ph dataset without initial nan values\n",
    "dictinit = {'Time': times2[117:], 'ph':ph_2[117:]}\n",
    "dfph = pd.DataFrame(dictinit)\n",
    "dfph_int = dfph.interpolate()\n",
    "ph_int = dfph_int['ph'].tolist() \n",
    "ph_int = ph_int[:408]\n",
    "time_int = dfph_int['Time'].tolist()\n",
    "time_int = time_int[:408]\n",
    "dictint = {'Time': time_int, 'ph': ph_int}\n",
    "dfphdata = pd.DataFrame(dictint)\n",
    "dfphdata.to_csv('org_data' + '/' + 'pHData.txt', sep='\\t', index=False, header=False)\n"
   ]
  },
  {
   "cell_type": "code",
   "execution_count": 18,
   "id": "61ed6a78-8c7e-4e0e-ad3a-4b2d71e71a4b",
   "metadata": {},
   "outputs": [],
   "source": [
    "# make a yearly pH dataset\n",
    "n = 12.0\n",
    "year=time_int[::12]\n",
    "ph_year = [sum(ph_int[i:i+12])/n for i in range(0,len(ph_int),12)]\n",
    "year = year[:-1]\n",
    "ph_y = ph_year[:-1]\n",
    "dictphy = {'Year': year, 'ph': ph_y}\n",
    "dfphy = pd.DataFrame(dictphy)\n",
    "dfphy.to_csv('org_data' + '/' + 'pHDataAnnual.txt', sep='\\t', index=False, header=False)"
   ]
  },
  {
   "cell_type": "code",
   "execution_count": null,
   "id": "fa34f966-aadc-4a58-bdd3-097cd00fbbed",
   "metadata": {},
   "outputs": [],
   "source": []
  }
 ],
 "metadata": {
  "kernelspec": {
   "display_name": "Python 3 (ipykernel)",
   "language": "python",
   "name": "python3"
  },
  "language_info": {
   "codemirror_mode": {
    "name": "ipython",
    "version": 3
   },
   "file_extension": ".py",
   "mimetype": "text/x-python",
   "name": "python",
   "nbconvert_exporter": "python",
   "pygments_lexer": "ipython3",
   "version": "3.10.12"
  }
 },
 "nbformat": 4,
 "nbformat_minor": 5
}
